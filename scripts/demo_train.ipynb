{
 "cells": [
  {
   "cell_type": "markdown",
   "metadata": {},
   "source": [
    "# Train priors for MRI image reconstruction\n",
    "**Authors**: [Guanxiong Luo](mailto:guanxiong.luo@med.uni-goettingen.de), [Nick Scholand](mailto:nick.scholand@med.uni-goettingen.de), [Christian Holme](mailto:christian.holme@med.uni-goettingen.de)\n",
    "\n",
    "**Have fun with it! If you have any questions, don't hesitate to drop us a line.**"
   ]
  },
  {
   "cell_type": "markdown",
   "metadata": {},
   "source": [
    "## 1. Install `spreco`\n",
    "\n",
    "Download the package spreco and install it with the `pip` command."
   ]
  },
  {
   "cell_type": "code",
   "execution_count": null,
   "metadata": {},
   "outputs": [],
   "source": [
    "%%bash\n",
    "git clone https://github.com/mrirecon/spreco.git\n",
    "cd spreco\n",
    "pip install ."
   ]
  },
  {
   "cell_type": "markdown",
   "metadata": {},
   "source": [
    "## 2. Import modules\n",
    "\n",
    "1. `parts` create a function dict which contains functions for loading data\n",
    "1. `pipe` create a data pipe based on `parts`\n",
    "1. `trainer` train the prior according to the configuration file"
   ]
  },
  {
   "cell_type": "code",
   "execution_count": 3,
   "metadata": {},
   "outputs": [],
   "source": [
    "from spreco.common import utils,pipe\n",
    "from spreco.common.options import parts\n",
    "from spreco.workbench.trainer import trainer\n",
    "import os"
   ]
  },
  {
   "cell_type": "markdown",
   "metadata": {},
   "source": [
    "### 1. Explanation of the config file for training"
   ]
  },
  {
   "cell_type": "markdown",
   "metadata": {},
   "source": [
    "The configuration file consists of four parts: model, saving, data and gpu.\n",
    "Prepare training files and create the data pipe that matches the input of the selected network, and specify the location of them in the file config.yaml.\n",
    "\n",
    "    ```yaml\n",
    "    # model\n",
    "    model: 'NCSN'\n",
    "    batch_size: 10\n",
    "    input_shape: [256, 256, 2]\n",
    "    data_chns: 'CPLX'   # complex input \n",
    "    lr: 0.0001          # learning rate\n",
    "    begin_sigma: 0.3    # sigma_max\n",
    "    end_sigma: 0.01     # sigma_min\n",
    "    anneal_power: 2.\n",
    "    nr_levels: 10       # N\n",
    "    affine_x: True\n",
    "    nonlinearity: 'elu' # activation function\n",
    "    nr_filters: 64      # base number for the number of filters\n",
    "\n",
    "    # saving\n",
    "    seed: 1234          # random seed\n",
    "    max_keep: 100\n",
    "    max_epochs: 1000\n",
    "    save_interval: 50   # take snapshot of model per 50\n",
    "    saved_name: test_brain\n",
    "    log_folder:         # location for saving models, and training logs\n",
    "\n",
    "    # data\n",
    "    train_data_path: /home/ague/data/gluo/dataset/brain_mat/train\n",
    "    test_data_path: /home/ague/data/gluo/dataset/brain_mat/test\n",
    "    pattern: \"nyu_AXFLAIR_*.npz\"    # all the files matching this name pattern will be loaded for training or testing.\n",
    "    num_prepare: 10\n",
    "    print_loss: True\n",
    "    parts: \n",
    "        # specify the components that are used to constructed a data pipe\n",
    "        # load the data with key 'rss' into numpy complex array, then squeeze the array, then normalize it with its maximum magnitude, then represent the complex image (width,height,1) with the float array (width,height,2), then crop the float array into the specified shape\n",
    "        - [{func: 'npz_loader', key: 'rss'}, {func: 'squeeze'}, {func: 'normalize_with_max'}, {func: 'slice_image', shape: [256, 256, 2]}] \n",
    "        # function to generate noise indices\n",
    "        - [{func: 'randint', nr_levels: 10}]\n",
    "\n",
    "    # gpu\n",
    "    nr_gpu: 2       # number of gpus\n",
    "    gpu_id: '1,2'   # PCI_BUS_ID\n",
    "    ```"
   ]
  },
  {
   "cell_type": "markdown",
   "metadata": {},
   "source": [
    "## 3. Prepare training files\n",
    "Uncompress the zip file, then specify the path of data\n",
    "\n",
    "1. `train_data_path`: \n",
    "2. `test_data_path`: \n",
    "3. `pattern`:\n",
    "\n",
    "`log_folder` is the path where intermediate snapshots of the model and model specs are stored."
   ]
  },
  {
   "cell_type": "code",
   "execution_count": null,
   "metadata": {},
   "outputs": [],
   "source": [
    "%%bash\n",
    "unzip ./data/brain_mnist.zip"
   ]
  },
  {
   "cell_type": "code",
   "execution_count": 4,
   "metadata": {},
   "outputs": [],
   "source": [
    "config_path='/home/gluo/spreco/scripts/train_config.yaml'\n",
    "config =  utils.load_config(config_path)\n",
    "\n",
    "train_files = utils.find_files(config['train_data_path'], config['pattern'])\n",
    "test_files  = utils.find_files(config['test_data_path'], config['pattern'])\n",
    "\n",
    "parts_funcs = parts.parse(config['parts'])\n",
    "\n",
    "###\n",
    "train_pipe = pipe.create_pipe(parts_funcs,\n",
    "                    files=train_files,\n",
    "                    batch_size=config['batch_size']*config['nr_gpu'],\n",
    "                    shape_info=[config['input_shape'], [1]], names=['inputs', 'h'])\n",
    "\n",
    "test_pipe  = pipe.create_pipe(parts_funcs, test_files,\n",
    "                            batch_size = config['batch_size']*config['nr_gpu'],\n",
    "                            shape_info=[config['input_shape'], [1]], names=['inputs', 'h'])"
   ]
  },
  {
   "cell_type": "markdown",
   "metadata": {},
   "source": [
    "## Start the trainer\n",
    "\n",
    "1. create the trainer with the given data pipes and configurations\n",
    "2. tracking the training time"
   ]
  },
  {
   "cell_type": "code",
   "execution_count": null,
   "metadata": {},
   "outputs": [],
   "source": [
    "go = trainer(train_pipe, test_pipe, config)\n",
    "utils.log_to(os.path.join(go.log_path, 'training files'), train_files, prefix=\"#\")\n",
    "utils.log_to(os.path.join(go.log_path, 'config.yaml'), [utils.get_timestamp(), \"The training is starting\"], prefix=\"#\")\n",
    "go.train()\n",
    "utils.log_to(os.path.join(go.log_path, 'config.yaml'), [utils.get_timestamp(), \"The training is ending\"], prefix=\"#\")\n",
    "utils.color_print('TRAINING FINISHED')"
   ]
  }
 ],
 "metadata": {
  "kernelspec": {
   "display_name": "Python 3 (ipykernel)",
   "language": "python",
   "name": "python3"
  },
  "language_info": {
   "codemirror_mode": {
    "name": "ipython",
    "version": 3
   },
   "file_extension": ".py",
   "mimetype": "text/x-python",
   "name": "python",
   "nbconvert_exporter": "python",
   "pygments_lexer": "ipython3",
   "version": "3.8.10"
  },
  "orig_nbformat": 4
 },
 "nbformat": 4,
 "nbformat_minor": 2
}
