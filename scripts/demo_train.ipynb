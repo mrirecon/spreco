{
 "cells": [
  {
   "cell_type": "markdown",
   "metadata": {},
   "source": [
    "# Train priors for MRI image reconstruction\n",
    "**Authors**: [Guanxiong Luo](mailto:guanxiong.luo@med.uni-goettingen.de), [Nick Scholand](mailto:nick.scholand@med.uni-goettingen.de), [Christian Holme](mailto:christian.holme@med.uni-goettingen.de)\n",
    "\n",
    "**Have fun with it! If you have any questions, don't hesitate to drop us a line.**"
   ]
  },
  {
   "cell_type": "markdown",
   "metadata": {},
   "source": [
    "## 1. Install `spreco`\n",
    "\n",
    "Download the package spreco and install it with the `pip` command."
   ]
  },
  {
   "cell_type": "code",
   "execution_count": null,
   "metadata": {},
   "outputs": [],
   "source": [
    "%%bash\n",
    "#pip uninstall tensorflow-gpu\n",
    "#pip install tensorflow-gpu==2.4.1\n",
    "git clone https://github.com/mrirecon/spreco.git\n",
    "cd spreco\n",
    "pip install ."
   ]
  },
  {
   "cell_type": "markdown",
   "metadata": {},
   "source": [
    "## 2. Import modules\n",
    "1. `pipe` create a dataloader\n",
    "2. `trainer` train the prior according to the configuration file"
   ]
  },
  {
   "cell_type": "code",
   "execution_count": 3,
   "metadata": {},
   "outputs": [],
   "source": [
    "from spreco.common import utils,pipe\n",
    "from spreco.workbench.trainer import trainer\n",
    "import os"
   ]
  },
  {
   "cell_type": "markdown",
   "metadata": {},
   "source": [
    "#### Explanation of the config file for training"
   ]
  },
  {
   "cell_type": "markdown",
   "metadata": {},
   "source": [
    "The configuration file consists of four parts: model, saving, data and gpu.\n",
    "\n",
    "\n",
    "    ```yaml\n",
    "    # model\n",
    "    model: 'NCSN'\n",
    "    batch_size: 2\n",
    "    input_shape: [256, 256, 2]\n",
    "    data_chns: 'CPLX'   # complex input \n",
    "    lr: 0.0001          # learning rate\n",
    "    begin_sigma: 0.3    # sigma_max\n",
    "    end_sigma: 0.01     # sigma_min\n",
    "    anneal_power: 2.\n",
    "    nr_levels: 10       # N\n",
    "    affine_x: True\n",
    "    nonlinearity: 'elu' # activation function\n",
    "    nr_filters: 64      # base number for the number of filters\n",
    "\n",
    "    # saving\n",
    "    seed: 1234          # random seed\n",
    "    max_keep: 100\n",
    "    max_epochs: 1000\n",
    "    save_interval: 50   # take snapshot of model per 50\n",
    "    saved_name: test_brain\n",
    "    log_folder: /content/logs     # location for saving models, and training logs\n",
    "\n",
    "    # data\n",
    "    train_data_path: /content/spreco/data/brain_mnist/train\n",
    "    test_data_path: /content/spreco/data/brain_mnist/test\n",
    "    pattern: \"*.npz\"    # all the files matching this name pattern will be loaded for training or testing.\n",
    "    num_prepare: 10\n",
    "    print_loss: True\n",
    "    \n",
    "    # gpu\n",
    "    nr_gpu: 2       # number of gpus\n",
    "    gpu_id: '1,2'   # PCI_BUS_ID\n",
    "    ```"
   ]
  },
  {
   "cell_type": "markdown",
   "metadata": {},
   "source": [
    "## 3. Prepare training files\n",
    "Uncompress the zip file, then specify the path of data\n",
    "\n",
    "1. `train_data_path`: \n",
    "2. `test_data_path`: \n",
    "3. `pattern`:"
   ]
  },
  {
   "cell_type": "code",
   "execution_count": 1,
   "metadata": {},
   "outputs": [
    {
     "name": "stdout",
     "output_type": "stream",
     "text": [
      "Process is terminated.\n"
     ]
    }
   ],
   "source": [
    "%%bash\n",
    "# download the data\n",
    "curl https://zenodo.org/record/6521188/files/brain_mnist.tar?download=1 --output brain_mnist.tar\n",
    "mkdir spreco/data\n",
    "tar xf brain_mnist.tar -C spreco/data"
   ]
  },
  {
   "cell_type": "markdown",
   "metadata": {},
   "source": [
    "Please check the paths of config file, training data and logging folder."
   ]
  },
  {
   "cell_type": "code",
   "execution_count": 4,
   "metadata": {},
   "outputs": [],
   "source": [
    "config_path='/content/spreco/scripts/train_config.yaml'\n",
    "config =  utils.load_config(config_path)\n",
    "\n",
    "train_files = utils.find_files(config['train_data_path'], config['pattern'])\n",
    "test_files  = utils.find_files(config['test_data_path'], config['pattern'])\n",
    "\n",
    "### create dataloader \n",
    "\n",
    "import numpy as np\n",
    "\n",
    "def npz_loader(x):\n",
    "    return utils.npz_loader(x, 'rss')\n",
    "\n",
    "def squeeze(x):\n",
    "    return np.squeeze(x)\n",
    "\n",
    "def normalize(x):\n",
    "    return utils.normalize_with_max(x)\n",
    "\n",
    "def slice_image(x):\n",
    "    return utils.slice_image(x, [256, 256, 2])\n",
    "\n",
    "def randint(x, dtype='int32'):\n",
    "    # x is a dummy arg\n",
    "    return np.random.randint(0, config['nr_levels'], (1), dtype=dtype)\n",
    "\n",
    "parts_funcs = [[npz_loader, squeeze, normalize, slice_image], [randint]]\n",
    "\n",
    "train_pipe = pipe.create_pipe(parts_funcs,\n",
    "                    files=train_files,\n",
    "                    batch_size=config['batch_size']*config['nr_gpu'],\n",
    "                    shape_info=[config['input_shape'], [1]], names=['inputs', 'h'])\n",
    "\n",
    "test_pipe  = pipe.create_pipe(parts_funcs, test_files,\n",
    "                            batch_size = config['batch_size']*config['nr_gpu'],\n",
    "                            shape_info=[config['input_shape'], [1]], names=['inputs', 'h'])"
   ]
  },
  {
   "cell_type": "markdown",
   "metadata": {},
   "source": [
    "## Start the trainer\n",
    "\n",
    "1. create the trainer with the given data pipes and configurations\n",
    "2. tracking the training time"
   ]
  },
  {
   "cell_type": "code",
   "execution_count": null,
   "metadata": {},
   "outputs": [],
   "source": [
    "go = trainer(train_pipe, test_pipe, config)\n",
    "utils.log_to(os.path.join(go.log_path, 'training files'), train_files, prefix=\"#\")\n",
    "utils.log_to(os.path.join(go.log_path, 'config.yaml'), [utils.get_timestamp(), \"The training is starting\"], prefix=\"#\")\n",
    "go.train()\n",
    "utils.log_to(os.path.join(go.log_path, 'config.yaml'), [utils.get_timestamp(), \"The training is ending\"], prefix=\"#\")\n",
    "utils.color_print('TRAINING FINISHED')"
   ]
  }
 ],
 "metadata": {
  "kernelspec": {
   "display_name": "Python 3.9.2 64-bit",
   "language": "python",
   "name": "python3"
  },
  "language_info": {
   "codemirror_mode": {
    "name": "ipython",
    "version": 3
   },
   "file_extension": ".py",
   "mimetype": "text/x-python",
   "name": "python",
   "nbconvert_exporter": "python",
   "pygments_lexer": "ipython3",
   "version": "3.9.2"
  },
  "orig_nbformat": 4,
  "vscode": {
   "interpreter": {
    "hash": "31f2aee4e71d21fbe5cf8b01ff0e069b9275f58929596ceb00d14d90e3e16cd6"
   }
  }
 },
 "nbformat": 4,
 "nbformat_minor": 2
}
